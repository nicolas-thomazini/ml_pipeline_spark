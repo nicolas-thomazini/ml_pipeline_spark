{
 "cells": [
  {
   "cell_type": "code",
   "execution_count": 18,
   "id": "2db706fc",
   "metadata": {},
   "outputs": [],
   "source": [
    "from pyspark.sql import SparkSession\n",
    "import pandas as pd"
   ]
  },
  {
   "cell_type": "code",
   "execution_count": 19,
   "id": "9a5480c7",
   "metadata": {},
   "outputs": [],
   "source": [
    "spark = SparkSession.builder \\\n",
    "    .appName(\"Solana ML Pipeline\") \\\n",
    "    .getOrCreate()"
   ]
  },
  {
   "cell_type": "code",
   "execution_count": 20,
   "id": "e18532d0",
   "metadata": {},
   "outputs": [
    {
     "name": "stderr",
     "output_type": "stream",
     "text": [
      "                                                                                \r"
     ]
    }
   ],
   "source": [
    "df_spark = spark.read.csv('/home/nicolas/ml_pipeline_spark/data/solana.csv', header=True, inferSchema=True)"
   ]
  },
  {
   "cell_type": "code",
   "execution_count": 21,
   "id": "50ac4780",
   "metadata": {},
   "outputs": [
    {
     "name": "stdout",
     "output_type": "stream",
     "text": [
      "+----------+--------+--------+--------+--------+---------+--------+\n",
      "|      Date|    Open|    High|     Low|   Close|Adj Close|  Volume|\n",
      "+----------+--------+--------+--------+--------+---------+--------+\n",
      "|2020-04-10|0.832005|1.313487|0.694187|0.951054| 0.951054|87364276|\n",
      "|2020-04-11|0.951054|1.049073| 0.76502|0.776819| 0.776819|43862444|\n",
      "|2020-04-12|0.785448| 0.95667|0.762426|0.882507| 0.882507|38736897|\n",
      "|2020-04-13| 0.89076|0.891603|0.773976|0.777832| 0.777832|18211285|\n",
      "|2020-04-14|0.777832|0.796472|0.628169|0.661925| 0.661925|16747614|\n",
      "+----------+--------+--------+--------+--------+---------+--------+\n",
      "only showing top 5 rows\n",
      "\n"
     ]
    }
   ],
   "source": [
    "df_spark.show(5)"
   ]
  },
  {
   "cell_type": "markdown",
   "id": "23527afb",
   "metadata": {},
   "source": [
    "We now convert Spark DataFrame in pandas for Model"
   ]
  },
  {
   "cell_type": "code",
   "execution_count": 22,
   "id": "edc24eb1",
   "metadata": {},
   "outputs": [],
   "source": [
    "df_selected = df_spark.select(\"Date\", \"Close\").dropna()\n",
    "\n",
    "df_real = df_selected.toPandas()\n",
    "\n",
    "df_real['Date'] = pd.to_datetime(df_real['Date'])\n",
    "df_real.set_index('Date', inplace=True)"
   ]
  },
  {
   "cell_type": "code",
   "execution_count": 23,
   "id": "ae47cf7f",
   "metadata": {},
   "outputs": [
    {
     "data": {
      "text/html": [
       "<div>\n",
       "<style scoped>\n",
       "    .dataframe tbody tr th:only-of-type {\n",
       "        vertical-align: middle;\n",
       "    }\n",
       "\n",
       "    .dataframe tbody tr th {\n",
       "        vertical-align: top;\n",
       "    }\n",
       "\n",
       "    .dataframe thead th {\n",
       "        text-align: right;\n",
       "    }\n",
       "</style>\n",
       "<table border=\"1\" class=\"dataframe\">\n",
       "  <thead>\n",
       "    <tr style=\"text-align: right;\">\n",
       "      <th></th>\n",
       "      <th>Close</th>\n",
       "    </tr>\n",
       "    <tr>\n",
       "      <th>Date</th>\n",
       "      <th></th>\n",
       "    </tr>\n",
       "  </thead>\n",
       "  <tbody>\n",
       "    <tr>\n",
       "      <th>2020-04-10</th>\n",
       "      <td>0.951054</td>\n",
       "    </tr>\n",
       "    <tr>\n",
       "      <th>2020-04-11</th>\n",
       "      <td>0.776819</td>\n",
       "    </tr>\n",
       "    <tr>\n",
       "      <th>2020-04-12</th>\n",
       "      <td>0.882507</td>\n",
       "    </tr>\n",
       "    <tr>\n",
       "      <th>2020-04-13</th>\n",
       "      <td>0.777832</td>\n",
       "    </tr>\n",
       "    <tr>\n",
       "      <th>2020-04-14</th>\n",
       "      <td>0.661925</td>\n",
       "    </tr>\n",
       "    <tr>\n",
       "      <th>...</th>\n",
       "      <td>...</td>\n",
       "    </tr>\n",
       "    <tr>\n",
       "      <th>2022-03-21</th>\n",
       "      <td>88.757202</td>\n",
       "    </tr>\n",
       "    <tr>\n",
       "      <th>2022-03-22</th>\n",
       "      <td>90.512970</td>\n",
       "    </tr>\n",
       "    <tr>\n",
       "      <th>2022-03-23</th>\n",
       "      <td>95.102684</td>\n",
       "    </tr>\n",
       "    <tr>\n",
       "      <th>2022-03-24</th>\n",
       "      <td>102.223694</td>\n",
       "    </tr>\n",
       "    <tr>\n",
       "      <th>2022-03-25</th>\n",
       "      <td>100.423592</td>\n",
       "    </tr>\n",
       "  </tbody>\n",
       "</table>\n",
       "<p>715 rows × 1 columns</p>\n",
       "</div>"
      ],
      "text/plain": [
       "                 Close\n",
       "Date                  \n",
       "2020-04-10    0.951054\n",
       "2020-04-11    0.776819\n",
       "2020-04-12    0.882507\n",
       "2020-04-13    0.777832\n",
       "2020-04-14    0.661925\n",
       "...                ...\n",
       "2022-03-21   88.757202\n",
       "2022-03-22   90.512970\n",
       "2022-03-23   95.102684\n",
       "2022-03-24  102.223694\n",
       "2022-03-25  100.423592\n",
       "\n",
       "[715 rows x 1 columns]"
      ]
     },
     "execution_count": 23,
     "metadata": {},
     "output_type": "execute_result"
    }
   ],
   "source": [
    "df_real"
   ]
  },
  {
   "cell_type": "code",
   "execution_count": null,
   "id": "003cb0da",
   "metadata": {},
   "outputs": [],
   "source": []
  }
 ],
 "metadata": {
  "kernelspec": {
   "display_name": "venv",
   "language": "python",
   "name": "python3"
  },
  "language_info": {
   "codemirror_mode": {
    "name": "ipython",
    "version": 3
   },
   "file_extension": ".py",
   "mimetype": "text/x-python",
   "name": "python",
   "nbconvert_exporter": "python",
   "pygments_lexer": "ipython3",
   "version": "3.12.3"
  }
 },
 "nbformat": 4,
 "nbformat_minor": 5
}
